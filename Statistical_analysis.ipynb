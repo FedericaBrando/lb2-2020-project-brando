{
 "cells": [
  {
   "cell_type": "markdown",
   "metadata": {},
   "source": [
    "# Back to statistical analysis of the Jpred4 dataset\n",
    "- Computing basic statistics on our training dataset\n",
    "- Assessing the adequacy of the dataset for our purposes\n",
    "- Demonstrate that the dataset is a proper snapshot of the real protein space\n",
    "\n",
    "## Describe the dataset producing the following plots:\n",
    "- The distribution of domain lengths - boxplot/hist/distplot\n",
    "- The relative abundance of secondary structure conformations - pie plot\n",
    "- Comparative amino-acid composition of: - countplot with normalize bar\n",
    " - The entire dataset\n",
    " - The fraction of helix, strand and coil residues\n",
    "- Taxonomic classification (at superkingdom and species level) - pie or countplot [reducing the number of species shown]\n",
    "- Structural classification (SCOP class)\n",
    "\n",
    "**Which kind of plot would you use for each point?**"
   ]
  },
  {
   "cell_type": "code",
   "execution_count": 2,
   "metadata": {},
   "outputs": [],
   "source": [
    "# import modules\n",
    "import seaborn as sn\n",
    "import pandas as pd\n",
    "import matplotlib as plt\n",
    "import os\n",
    "import numpy as np\n",
    "import matplotlib.pyplot as plt"
   ]
  },
  {
   "cell_type": "markdown",
   "metadata": {},
   "source": [
    "### Import the data"
   ]
  },
  {
   "cell_type": "code",
   "execution_count": 2,
   "metadata": {},
   "outputs": [
    {
     "data": {
      "text/html": [
       "<div>\n",
       "<style scoped>\n",
       "    .dataframe tbody tr th:only-of-type {\n",
       "        vertical-align: middle;\n",
       "    }\n",
       "\n",
       "    .dataframe tbody tr th {\n",
       "        vertical-align: top;\n",
       "    }\n",
       "\n",
       "    .dataframe thead th {\n",
       "        text-align: right;\n",
       "    }\n",
       "</style>\n",
       "<table border=\"1\" class=\"dataframe\">\n",
       "  <thead>\n",
       "    <tr style=\"text-align: right;\">\n",
       "      <th></th>\n",
       "      <th>DomainID</th>\n",
       "      <th>PDB</th>\n",
       "      <th>SCOPID</th>\n",
       "      <th>SCOPClass</th>\n",
       "      <th>Length</th>\n",
       "      <th>Suprekingdom</th>\n",
       "      <th>TaxaID</th>\n",
       "      <th>TaxaName</th>\n",
       "    </tr>\n",
       "  </thead>\n",
       "  <tbody>\n",
       "    <tr>\n",
       "      <th>0</th>\n",
       "      <td>d1a12a_</td>\n",
       "      <td>1a12</td>\n",
       "      <td>b.69.5.1</td>\n",
       "      <td>All beta</td>\n",
       "      <td>401</td>\n",
       "      <td>eukaryota</td>\n",
       "      <td>9606</td>\n",
       "      <td>Homo sapiens</td>\n",
       "    </tr>\n",
       "    <tr>\n",
       "      <th>1</th>\n",
       "      <td>d1a1xa_</td>\n",
       "      <td>1a1x</td>\n",
       "      <td>b.63.1.1</td>\n",
       "      <td>All beta</td>\n",
       "      <td>106</td>\n",
       "      <td>eukaryota</td>\n",
       "      <td>9606</td>\n",
       "      <td>Homo sapiens</td>\n",
       "    </tr>\n",
       "    <tr>\n",
       "      <th>2</th>\n",
       "      <td>d1a62a1</td>\n",
       "      <td>1a62</td>\n",
       "      <td>a.140.3.1</td>\n",
       "      <td>All alpha</td>\n",
       "      <td>47</td>\n",
       "      <td>bacteria</td>\n",
       "      <td>469008</td>\n",
       "      <td>Escherichia coli BL21(DE3)</td>\n",
       "    </tr>\n",
       "    <tr>\n",
       "      <th>3</th>\n",
       "      <td>d1a9xa1</td>\n",
       "      <td>1a9x</td>\n",
       "      <td>a.92.1.1</td>\n",
       "      <td>All alpha</td>\n",
       "      <td>153</td>\n",
       "      <td>bacteria</td>\n",
       "      <td>562</td>\n",
       "      <td>Escherichia coli</td>\n",
       "    </tr>\n",
       "    <tr>\n",
       "      <th>4</th>\n",
       "      <td>d1acoa1</td>\n",
       "      <td>1aco</td>\n",
       "      <td>c.8.2.1</td>\n",
       "      <td>Alpha and beta (a/b)</td>\n",
       "      <td>226</td>\n",
       "      <td>eukaryota</td>\n",
       "      <td>9913</td>\n",
       "      <td>Bos taurus</td>\n",
       "    </tr>\n",
       "    <tr>\n",
       "      <th>...</th>\n",
       "      <td>...</td>\n",
       "      <td>...</td>\n",
       "      <td>...</td>\n",
       "      <td>...</td>\n",
       "      <td>...</td>\n",
       "      <td>...</td>\n",
       "      <td>...</td>\n",
       "      <td>...</td>\n",
       "    </tr>\n",
       "    <tr>\n",
       "      <th>1343</th>\n",
       "      <td>e1n13.1B</td>\n",
       "      <td>1n13</td>\n",
       "      <td>d.155.1.2</td>\n",
       "      <td>Alpha and beta (a+b)</td>\n",
       "      <td>112</td>\n",
       "      <td>archaea</td>\n",
       "      <td>2190</td>\n",
       "      <td>Methanocaldococcus jannaschii</td>\n",
       "    </tr>\n",
       "    <tr>\n",
       "      <th>1344</th>\n",
       "      <td>e1qd6.1C</td>\n",
       "      <td>1qd6</td>\n",
       "      <td>f.4.2.1</td>\n",
       "      <td>Membrane and cell surface proteins and peptides</td>\n",
       "      <td>240</td>\n",
       "      <td>bacteria</td>\n",
       "      <td>562</td>\n",
       "      <td>Escherichia coli</td>\n",
       "    </tr>\n",
       "    <tr>\n",
       "      <th>1345</th>\n",
       "      <td>e1qqp.12</td>\n",
       "      <td>1qqp</td>\n",
       "      <td>b.121.4.1</td>\n",
       "      <td>All beta</td>\n",
       "      <td>216</td>\n",
       "      <td>viruses</td>\n",
       "      <td>12110</td>\n",
       "      <td>Foot-and-mouth disease virus</td>\n",
       "    </tr>\n",
       "    <tr>\n",
       "      <th>1346</th>\n",
       "      <td>e1qtn.1A</td>\n",
       "      <td>1qtn</td>\n",
       "      <td>c.17.1.1</td>\n",
       "      <td>Alpha and beta (a/b)</td>\n",
       "      <td>152</td>\n",
       "      <td>eukaryota</td>\n",
       "      <td>9606</td>\n",
       "      <td>Homo sapiens</td>\n",
       "    </tr>\n",
       "    <tr>\n",
       "      <th>1347</th>\n",
       "      <td>e1qtn.1B</td>\n",
       "      <td>1qtn</td>\n",
       "      <td>c.17.1.1</td>\n",
       "      <td>Alpha and beta (a/b)</td>\n",
       "      <td>90</td>\n",
       "      <td>eukaryota</td>\n",
       "      <td>9606</td>\n",
       "      <td>Homo sapiens</td>\n",
       "    </tr>\n",
       "  </tbody>\n",
       "</table>\n",
       "<p>1348 rows × 8 columns</p>\n",
       "</div>"
      ],
      "text/plain": [
       "      DomainID   PDB     SCOPID  \\\n",
       "0      d1a12a_  1a12   b.69.5.1   \n",
       "1      d1a1xa_  1a1x   b.63.1.1   \n",
       "2      d1a62a1  1a62  a.140.3.1   \n",
       "3      d1a9xa1  1a9x   a.92.1.1   \n",
       "4      d1acoa1  1aco    c.8.2.1   \n",
       "...        ...   ...        ...   \n",
       "1343  e1n13.1B  1n13  d.155.1.2   \n",
       "1344  e1qd6.1C  1qd6    f.4.2.1   \n",
       "1345  e1qqp.12  1qqp  b.121.4.1   \n",
       "1346  e1qtn.1A  1qtn   c.17.1.1   \n",
       "1347  e1qtn.1B  1qtn   c.17.1.1   \n",
       "\n",
       "                                            SCOPClass  Length Suprekingdom  \\\n",
       "0                                            All beta     401    eukaryota   \n",
       "1                                            All beta     106    eukaryota   \n",
       "2                                           All alpha      47     bacteria   \n",
       "3                                           All alpha     153     bacteria   \n",
       "4                                Alpha and beta (a/b)     226    eukaryota   \n",
       "...                                               ...     ...          ...   \n",
       "1343                             Alpha and beta (a+b)     112      archaea   \n",
       "1344  Membrane and cell surface proteins and peptides     240     bacteria   \n",
       "1345                                         All beta     216      viruses   \n",
       "1346                             Alpha and beta (a/b)     152    eukaryota   \n",
       "1347                             Alpha and beta (a/b)      90    eukaryota   \n",
       "\n",
       "      TaxaID                       TaxaName  \n",
       "0       9606                   Homo sapiens  \n",
       "1       9606                   Homo sapiens  \n",
       "2     469008     Escherichia coli BL21(DE3)  \n",
       "3        562               Escherichia coli  \n",
       "4       9913                     Bos taurus  \n",
       "...      ...                            ...  \n",
       "1343    2190  Methanocaldococcus jannaschii  \n",
       "1344     562               Escherichia coli  \n",
       "1345   12110   Foot-and-mouth disease virus  \n",
       "1346    9606                   Homo sapiens  \n",
       "1347    9606                   Homo sapiens  \n",
       "\n",
       "[1348 rows x 8 columns]"
      ]
     },
     "execution_count": 2,
     "metadata": {},
     "output_type": "execute_result"
    }
   ],
   "source": [
    "df = pd.read_csv('jpred4.tsv', sep= '\\t')\n",
    "df"
   ]
  },
  {
   "cell_type": "markdown",
   "metadata": {},
   "source": [
    "### 1. Distribution of domain lengths - boxplot/hist/distplot"
   ]
  },
  {
   "cell_type": "code",
   "execution_count": 6,
   "metadata": {},
   "outputs": [
    {
     "ename": "NameError",
     "evalue": "name 'df' is not defined",
     "output_type": "error",
     "traceback": [
      "\u001B[0;31m---------------------------------------------------------------------------\u001B[0m",
      "\u001B[0;31mNameError\u001B[0m                                 Traceback (most recent call last)",
      "\u001B[0;32m<ipython-input-6-6e6ff4682129>\u001B[0m in \u001B[0;36m<module>\u001B[0;34m\u001B[0m\n\u001B[1;32m      1\u001B[0m \u001B[0msn\u001B[0m\u001B[0;34m.\u001B[0m\u001B[0mset\u001B[0m\u001B[0;34m(\u001B[0m\u001B[0;34m)\u001B[0m\u001B[0;34m\u001B[0m\u001B[0;34m\u001B[0m\u001B[0m\n\u001B[0;32m----> 2\u001B[0;31m \u001B[0msn\u001B[0m\u001B[0;34m.\u001B[0m\u001B[0mdisplot\u001B[0m\u001B[0;34m(\u001B[0m\u001B[0mdf\u001B[0m\u001B[0;34m.\u001B[0m\u001B[0mLength\u001B[0m\u001B[0;34m,\u001B[0m \u001B[0mcolor\u001B[0m\u001B[0;34m=\u001B[0m\u001B[0;34m'green'\u001B[0m\u001B[0;34m)\u001B[0m\u001B[0;34m\u001B[0m\u001B[0;34m\u001B[0m\u001B[0m\n\u001B[0m",
      "\u001B[0;31mNameError\u001B[0m: name 'df' is not defined"
     ]
    }
   ],
   "source": [
    "sn.set()\n",
    "sn.displot(df.Length, color='green')"
   ]
  },
  {
   "cell_type": "code",
   "execution_count": 4,
   "metadata": {},
   "outputs": [
    {
     "data": {
      "text/plain": [
       "<AxesSubplot:>"
      ]
     },
     "execution_count": 4,
     "metadata": {},
     "output_type": "execute_result"
    },
    {
     "data": {
      "image/png": "[encoded data removed]",
      "text/plain": [
       "<Figure size 432x288 with 1 Axes>"
      ]
     },
     "metadata": {},
     "output_type": "display_data"
    }
   ],
   "source": [
    "sn.boxplot(data = df.Length, orient='h', color='orange')"
   ]
  },
  {
   "cell_type": "markdown",
   "metadata": {},
   "source": [
    "### 2.The relative abundance of secondary structure conformations - pie plot"
   ]
  },
  {
   "cell_type": "code",
   "execution_count": 3,
   "metadata": {},
   "outputs": [],
   "source": [
    "d = {}\n",
    "\n",
    "for filename in os.listdir('dssp/'):\n",
    "    if filename.endswith('.dssp'):\n",
    "        filename = 'dssp/'+filename\n",
    "        f = open(filename)\n",
    "        for line in f:\n",
    "            if '>' not in line:\n",
    "                for char in line.rstrip():\n",
    "                    d[char] = d.get(char,0)+1\n",
    "        f.close()"
   ]
  },
  {
   "cell_type": "code",
   "execution_count": 4,
   "metadata": {},
   "outputs": [],
   "source": [
    "ss_df = pd.DataFrame(d.items(), columns=['ss', 'count'])\n",
    "ss_df = ss_df.set_index('ss')"
   ]
  },
  {
   "cell_type": "code",
   "execution_count": 7,
   "metadata": {},
   "outputs": [
    {
     "data": {
      "text/plain": [
       "<AxesSubplot:ylabel='count'>"
      ]
     },
     "execution_count": 7,
     "metadata": {},
     "output_type": "execute_result"
    },
    {
     "data": {
      "image/png": "[encoded data removed]",
      "text/plain": [
       "<Figure size 432x288 with 1 Axes>"
      ]
     },
     "metadata": {},
     "output_type": "display_data"
    }
   ],
   "source": [
    "ss_df.plot.pie(y=\"count\", autopct='%1.1f%%')"
   ]
  },
  {
   "cell_type": "markdown",
   "metadata": {},
   "source": [
    "### 3. Comparative amino-acid composition of: - countplot with normalize bar\n",
    "#### 3.1 The entire dataset"
   ]
  },
  {
   "cell_type": "code",
   "execution_count": 8,
   "metadata": {},
   "outputs": [],
   "source": [
    "aa = {}\n",
    "\n",
    "for filename in os.listdir('fasta/'):\n",
    "    if filename.endswith('.fasta'):\n",
    "        filename = 'fasta/'+filename\n",
    "        f = open(filename)\n",
    "        for line in f:\n",
    "            if '>' not in line:\n",
    "                for char in line.rstrip():\n",
    "                    aa[char] = aa.get(char,0)+1\n",
    "                    \n",
    "        f.close()"
   ]
  },
  {
   "cell_type": "code",
   "execution_count": 9,
   "metadata": {},
   "outputs": [],
   "source": [
    "aa_df = pd.DataFrame(aa.items(), columns=['aa', 'count'])\n",
    "aa_df['count'] = aa_df['count'] / aa_df['count'].sum()"
   ]
  },
  {
   "cell_type": "code",
   "execution_count": 10,
   "metadata": {},
   "outputs": [
    {
     "data": {
      "text/plain": [
       "<AxesSubplot:xlabel='aa', ylabel='count'>"
      ]
     },
     "execution_count": 10,
     "metadata": {},
     "output_type": "execute_result"
    },
    {
     "data": {
      "image/png": "[encoded data removed]",
      "text/plain": [
       "<Figure size 432x288 with 1 Axes>"
      ]
     },
     "metadata": {},
     "output_type": "display_data"
    }
   ],
   "source": [
    "sn.barplot(data = aa_df.sort_values('count'), y = 'count', x = 'aa')"
   ]
  },
  {
   "cell_type": "markdown",
   "metadata": {},
   "source": [
    " #### 3.2 The fraction of helix, strand and coil residues"
   ]
  },
  {
   "cell_type": "code",
   "execution_count": 11,
   "metadata": {},
   "outputs": [],
   "source": [
    "coil = {}\n",
    "helix = {}\n",
    "strand = {}\n",
    "\n",
    "for (f_fasta, f_dssp) in zip(sorted(os.listdir('fasta/')), sorted(os.listdir('dssp/'))):\n",
    "    if f_fasta.endswith('.fasta') and f_dssp.endswith('.dssp'):\n",
    "        f_fasta = 'fasta/' + f_fasta\n",
    "        f_dssp = 'dssp/' + f_dssp\n",
    "        ffasta = open(f_fasta)\n",
    "        fdssp = open(f_dssp)                      \n",
    "        for (fastaline,dsspline) in zip(ffasta,fdssp):\n",
    "            if '>' not in fastaline and '>' not in dsspline:\n",
    "                for (charfasta,chardssp) in zip(fastaline.rstrip(), dsspline.rstrip()):\n",
    "                    if chardssp == '-':\n",
    "                        coil[charfasta] = coil.get(charfasta,0)+1\n",
    "                    elif chardssp == 'E':\n",
    "                        strand[charfasta] = strand.get(charfasta,0)+1\n",
    "                    elif chardssp == 'H':\n",
    "                        helix[charfasta] = helix.get(charfasta,0)+1\n",
    "                     \n",
    "        ffasta.close()\n",
    "        fdssp.close()                \n",
    "                                \n",
    "del coil['X']"
   ]
  },
  {
   "cell_type": "code",
   "execution_count": 12,
   "metadata": {},
   "outputs": [],
   "source": [
    "finaldict = {key:[coil[key], helix[key], strand[key]] for key in coil}"
   ]
  },
  {
   "cell_type": "code",
   "execution_count": 13,
   "metadata": {},
   "outputs": [
    {
     "data": {
      "text/html": [
       "<div>\n",
       "<style scoped>\n",
       "    .dataframe tbody tr th:only-of-type {\n",
       "        vertical-align: middle;\n",
       "    }\n",
       "\n",
       "    .dataframe tbody tr th {\n",
       "        vertical-align: top;\n",
       "    }\n",
       "\n",
       "    .dataframe thead th {\n",
       "        text-align: right;\n",
       "    }\n",
       "</style>\n",
       "<table border=\"1\" class=\"dataframe\">\n",
       "  <thead>\n",
       "    <tr style=\"text-align: right;\">\n",
       "      <th></th>\n",
       "      <th>aa</th>\n",
       "      <th>coil</th>\n",
       "      <th>helix</th>\n",
       "      <th>strand</th>\n",
       "    </tr>\n",
       "  </thead>\n",
       "  <tbody>\n",
       "    <tr>\n",
       "      <th>0</th>\n",
       "      <td>K</td>\n",
       "      <td>5336</td>\n",
       "      <td>5332</td>\n",
       "      <td>2437</td>\n",
       "    </tr>\n",
       "    <tr>\n",
       "      <th>1</th>\n",
       "      <td>V</td>\n",
       "      <td>4039</td>\n",
       "      <td>5112</td>\n",
       "      <td>6494</td>\n",
       "    </tr>\n",
       "    <tr>\n",
       "      <th>2</th>\n",
       "      <td>S</td>\n",
       "      <td>6680</td>\n",
       "      <td>3458</td>\n",
       "      <td>2438</td>\n",
       "    </tr>\n",
       "    <tr>\n",
       "      <th>3</th>\n",
       "      <td>H</td>\n",
       "      <td>2276</td>\n",
       "      <td>1516</td>\n",
       "      <td>1105</td>\n",
       "    </tr>\n",
       "    <tr>\n",
       "      <th>4</th>\n",
       "      <td>R</td>\n",
       "      <td>4209</td>\n",
       "      <td>4815</td>\n",
       "      <td>2406</td>\n",
       "    </tr>\n",
       "    <tr>\n",
       "      <th>5</th>\n",
       "      <td>T</td>\n",
       "      <td>5405</td>\n",
       "      <td>3271</td>\n",
       "      <td>3226</td>\n",
       "    </tr>\n",
       "    <tr>\n",
       "      <th>6</th>\n",
       "      <td>E</td>\n",
       "      <td>5768</td>\n",
       "      <td>7450</td>\n",
       "      <td>2321</td>\n",
       "    </tr>\n",
       "    <tr>\n",
       "      <th>7</th>\n",
       "      <td>P</td>\n",
       "      <td>7250</td>\n",
       "      <td>1509</td>\n",
       "      <td>1092</td>\n",
       "    </tr>\n",
       "    <tr>\n",
       "      <th>8</th>\n",
       "      <td>G</td>\n",
       "      <td>10884</td>\n",
       "      <td>2520</td>\n",
       "      <td>2414</td>\n",
       "    </tr>\n",
       "    <tr>\n",
       "      <th>9</th>\n",
       "      <td>D</td>\n",
       "      <td>7488</td>\n",
       "      <td>3592</td>\n",
       "      <td>1598</td>\n",
       "    </tr>\n",
       "    <tr>\n",
       "      <th>10</th>\n",
       "      <td>Q</td>\n",
       "      <td>3114</td>\n",
       "      <td>3838</td>\n",
       "      <td>1401</td>\n",
       "    </tr>\n",
       "    <tr>\n",
       "      <th>11</th>\n",
       "      <td>L</td>\n",
       "      <td>6096</td>\n",
       "      <td>9536</td>\n",
       "      <td>4841</td>\n",
       "    </tr>\n",
       "    <tr>\n",
       "      <th>12</th>\n",
       "      <td>N</td>\n",
       "      <td>5204</td>\n",
       "      <td>2309</td>\n",
       "      <td>1262</td>\n",
       "    </tr>\n",
       "    <tr>\n",
       "      <th>13</th>\n",
       "      <td>M</td>\n",
       "      <td>1598</td>\n",
       "      <td>2073</td>\n",
       "      <td>1019</td>\n",
       "    </tr>\n",
       "    <tr>\n",
       "      <th>14</th>\n",
       "      <td>I</td>\n",
       "      <td>2979</td>\n",
       "      <td>4821</td>\n",
       "      <td>4634</td>\n",
       "    </tr>\n",
       "    <tr>\n",
       "      <th>15</th>\n",
       "      <td>C</td>\n",
       "      <td>1275</td>\n",
       "      <td>811</td>\n",
       "      <td>822</td>\n",
       "    </tr>\n",
       "    <tr>\n",
       "      <th>16</th>\n",
       "      <td>A</td>\n",
       "      <td>6138</td>\n",
       "      <td>9118</td>\n",
       "      <td>3131</td>\n",
       "    </tr>\n",
       "    <tr>\n",
       "      <th>17</th>\n",
       "      <td>F</td>\n",
       "      <td>2870</td>\n",
       "      <td>3066</td>\n",
       "      <td>2649</td>\n",
       "    </tr>\n",
       "    <tr>\n",
       "      <th>18</th>\n",
       "      <td>Y</td>\n",
       "      <td>2470</td>\n",
       "      <td>2509</td>\n",
       "      <td>2410</td>\n",
       "    </tr>\n",
       "    <tr>\n",
       "      <th>19</th>\n",
       "      <td>W</td>\n",
       "      <td>1009</td>\n",
       "      <td>1086</td>\n",
       "      <td>888</td>\n",
       "    </tr>\n",
       "  </tbody>\n",
       "</table>\n",
       "</div>"
      ],
      "text/plain": [
       "   aa   coil  helix  strand\n",
       "0   K   5336   5332    2437\n",
       "1   V   4039   5112    6494\n",
       "2   S   6680   3458    2438\n",
       "3   H   2276   1516    1105\n",
       "4   R   4209   4815    2406\n",
       "5   T   5405   3271    3226\n",
       "6   E   5768   7450    2321\n",
       "7   P   7250   1509    1092\n",
       "8   G  10884   2520    2414\n",
       "9   D   7488   3592    1598\n",
       "10  Q   3114   3838    1401\n",
       "11  L   6096   9536    4841\n",
       "12  N   5204   2309    1262\n",
       "13  M   1598   2073    1019\n",
       "14  I   2979   4821    4634\n",
       "15  C   1275    811     822\n",
       "16  A   6138   9118    3131\n",
       "17  F   2870   3066    2649\n",
       "18  Y   2470   2509    2410\n",
       "19  W   1009   1086     888"
      ]
     },
     "execution_count": 13,
     "metadata": {},
     "output_type": "execute_result"
    }
   ],
   "source": [
    "aass_df = pd.DataFrame([([k] + v) for k, v in finaldict.items()], columns=['aa','coil','helix', 'strand'])\n",
    "aass_df"
   ]
  },
  {
   "cell_type": "code",
   "execution_count": 14,
   "metadata": {},
   "outputs": [],
   "source": [
    "aass_df['coilconf'] = aass_df['coil']/aass_df['coil'].sum()"
   ]
  },
  {
   "cell_type": "code",
   "execution_count": 15,
   "metadata": {},
   "outputs": [],
   "source": [
    "aass_df['helixconf'] = aass_df['helix']/aass_df['helix'].sum()"
   ]
  },
  {
   "cell_type": "code",
   "execution_count": 16,
   "metadata": {},
   "outputs": [],
   "source": [
    "aass_df['strandconf'] = aass_df['strand']/aass_df['strand'].sum()"
   ]
  },
  {
   "cell_type": "code",
   "execution_count": 17,
   "metadata": {},
   "outputs": [],
   "source": [
    "aass_df['total'] = (aass_df['coil']+aass_df['helix']+aass_df['strand'])/(aass_df['strand'].sum()+aass_df['helix'].sum()+aass_df['coil'].sum())"
   ]
  },
  {
   "cell_type": "code",
   "execution_count": 18,
   "metadata": {},
   "outputs": [
    {
     "data": {
      "text/html": [
       "<div>\n",
       "<style scoped>\n",
       "    .dataframe tbody tr th:only-of-type {\n",
       "        vertical-align: middle;\n",
       "    }\n",
       "\n",
       "    .dataframe tbody tr th {\n",
       "        vertical-align: top;\n",
       "    }\n",
       "\n",
       "    .dataframe thead th {\n",
       "        text-align: right;\n",
       "    }\n",
       "</style>\n",
       "<table border=\"1\" class=\"dataframe\">\n",
       "  <thead>\n",
       "    <tr style=\"text-align: right;\">\n",
       "      <th></th>\n",
       "      <th>aa</th>\n",
       "      <th>coil</th>\n",
       "      <th>helix</th>\n",
       "      <th>strand</th>\n",
       "      <th>coilconf</th>\n",
       "      <th>helixconf</th>\n",
       "      <th>strandconf</th>\n",
       "      <th>total</th>\n",
       "    </tr>\n",
       "  </thead>\n",
       "  <tbody>\n",
       "    <tr>\n",
       "      <th>0</th>\n",
       "      <td>K</td>\n",
       "      <td>5336</td>\n",
       "      <td>5332</td>\n",
       "      <td>2437</td>\n",
       "      <td>0.057945</td>\n",
       "      <td>0.068586</td>\n",
       "      <td>0.050156</td>\n",
       "      <td>0.060000</td>\n",
       "    </tr>\n",
       "    <tr>\n",
       "      <th>1</th>\n",
       "      <td>V</td>\n",
       "      <td>4039</td>\n",
       "      <td>5112</td>\n",
       "      <td>6494</td>\n",
       "      <td>0.043860</td>\n",
       "      <td>0.065756</td>\n",
       "      <td>0.133654</td>\n",
       "      <td>0.071629</td>\n",
       "    </tr>\n",
       "    <tr>\n",
       "      <th>2</th>\n",
       "      <td>S</td>\n",
       "      <td>6680</td>\n",
       "      <td>3458</td>\n",
       "      <td>2438</td>\n",
       "      <td>0.072539</td>\n",
       "      <td>0.044480</td>\n",
       "      <td>0.050177</td>\n",
       "      <td>0.057578</td>\n",
       "    </tr>\n",
       "    <tr>\n",
       "      <th>3</th>\n",
       "      <td>H</td>\n",
       "      <td>2276</td>\n",
       "      <td>1516</td>\n",
       "      <td>1105</td>\n",
       "      <td>0.024715</td>\n",
       "      <td>0.019500</td>\n",
       "      <td>0.022742</td>\n",
       "      <td>0.022420</td>\n",
       "    </tr>\n",
       "    <tr>\n",
       "      <th>4</th>\n",
       "      <td>R</td>\n",
       "      <td>4209</td>\n",
       "      <td>4815</td>\n",
       "      <td>2406</td>\n",
       "      <td>0.045706</td>\n",
       "      <td>0.061936</td>\n",
       "      <td>0.049518</td>\n",
       "      <td>0.052331</td>\n",
       "    </tr>\n",
       "    <tr>\n",
       "      <th>5</th>\n",
       "      <td>T</td>\n",
       "      <td>5405</td>\n",
       "      <td>3271</td>\n",
       "      <td>3226</td>\n",
       "      <td>0.058694</td>\n",
       "      <td>0.042075</td>\n",
       "      <td>0.066395</td>\n",
       "      <td>0.054492</td>\n",
       "    </tr>\n",
       "    <tr>\n",
       "      <th>6</th>\n",
       "      <td>E</td>\n",
       "      <td>5768</td>\n",
       "      <td>7450</td>\n",
       "      <td>2321</td>\n",
       "      <td>0.062636</td>\n",
       "      <td>0.095830</td>\n",
       "      <td>0.047769</td>\n",
       "      <td>0.071143</td>\n",
       "    </tr>\n",
       "    <tr>\n",
       "      <th>7</th>\n",
       "      <td>P</td>\n",
       "      <td>7250</td>\n",
       "      <td>1509</td>\n",
       "      <td>1092</td>\n",
       "      <td>0.078729</td>\n",
       "      <td>0.019410</td>\n",
       "      <td>0.022475</td>\n",
       "      <td>0.045102</td>\n",
       "    </tr>\n",
       "    <tr>\n",
       "      <th>8</th>\n",
       "      <td>G</td>\n",
       "      <td>10884</td>\n",
       "      <td>2520</td>\n",
       "      <td>2414</td>\n",
       "      <td>0.118191</td>\n",
       "      <td>0.032415</td>\n",
       "      <td>0.049683</td>\n",
       "      <td>0.072421</td>\n",
       "    </tr>\n",
       "    <tr>\n",
       "      <th>9</th>\n",
       "      <td>D</td>\n",
       "      <td>7488</td>\n",
       "      <td>3592</td>\n",
       "      <td>1598</td>\n",
       "      <td>0.081314</td>\n",
       "      <td>0.046204</td>\n",
       "      <td>0.032889</td>\n",
       "      <td>0.058045</td>\n",
       "    </tr>\n",
       "    <tr>\n",
       "      <th>10</th>\n",
       "      <td>Q</td>\n",
       "      <td>3114</td>\n",
       "      <td>3838</td>\n",
       "      <td>1401</td>\n",
       "      <td>0.033815</td>\n",
       "      <td>0.049368</td>\n",
       "      <td>0.028834</td>\n",
       "      <td>0.038243</td>\n",
       "    </tr>\n",
       "    <tr>\n",
       "      <th>11</th>\n",
       "      <td>L</td>\n",
       "      <td>6096</td>\n",
       "      <td>9536</td>\n",
       "      <td>4841</td>\n",
       "      <td>0.066198</td>\n",
       "      <td>0.122662</td>\n",
       "      <td>0.099634</td>\n",
       "      <td>0.093733</td>\n",
       "    </tr>\n",
       "    <tr>\n",
       "      <th>12</th>\n",
       "      <td>N</td>\n",
       "      <td>5204</td>\n",
       "      <td>2309</td>\n",
       "      <td>1262</td>\n",
       "      <td>0.056511</td>\n",
       "      <td>0.029701</td>\n",
       "      <td>0.025973</td>\n",
       "      <td>0.040175</td>\n",
       "    </tr>\n",
       "    <tr>\n",
       "      <th>13</th>\n",
       "      <td>M</td>\n",
       "      <td>1598</td>\n",
       "      <td>2073</td>\n",
       "      <td>1019</td>\n",
       "      <td>0.017353</td>\n",
       "      <td>0.026665</td>\n",
       "      <td>0.020972</td>\n",
       "      <td>0.021473</td>\n",
       "    </tr>\n",
       "    <tr>\n",
       "      <th>14</th>\n",
       "      <td>I</td>\n",
       "      <td>2979</td>\n",
       "      <td>4821</td>\n",
       "      <td>4634</td>\n",
       "      <td>0.032349</td>\n",
       "      <td>0.062013</td>\n",
       "      <td>0.095373</td>\n",
       "      <td>0.056928</td>\n",
       "    </tr>\n",
       "    <tr>\n",
       "      <th>15</th>\n",
       "      <td>C</td>\n",
       "      <td>1275</td>\n",
       "      <td>811</td>\n",
       "      <td>822</td>\n",
       "      <td>0.013845</td>\n",
       "      <td>0.010432</td>\n",
       "      <td>0.016918</td>\n",
       "      <td>0.013314</td>\n",
       "    </tr>\n",
       "    <tr>\n",
       "      <th>16</th>\n",
       "      <td>A</td>\n",
       "      <td>6138</td>\n",
       "      <td>9118</td>\n",
       "      <td>3131</td>\n",
       "      <td>0.066654</td>\n",
       "      <td>0.117285</td>\n",
       "      <td>0.064440</td>\n",
       "      <td>0.084183</td>\n",
       "    </tr>\n",
       "    <tr>\n",
       "      <th>17</th>\n",
       "      <td>F</td>\n",
       "      <td>2870</td>\n",
       "      <td>3066</td>\n",
       "      <td>2649</td>\n",
       "      <td>0.031166</td>\n",
       "      <td>0.039438</td>\n",
       "      <td>0.054520</td>\n",
       "      <td>0.039305</td>\n",
       "    </tr>\n",
       "    <tr>\n",
       "      <th>18</th>\n",
       "      <td>Y</td>\n",
       "      <td>2470</td>\n",
       "      <td>2509</td>\n",
       "      <td>2410</td>\n",
       "      <td>0.026822</td>\n",
       "      <td>0.032273</td>\n",
       "      <td>0.049601</td>\n",
       "      <td>0.033830</td>\n",
       "    </tr>\n",
       "    <tr>\n",
       "      <th>19</th>\n",
       "      <td>W</td>\n",
       "      <td>1009</td>\n",
       "      <td>1086</td>\n",
       "      <td>888</td>\n",
       "      <td>0.010957</td>\n",
       "      <td>0.013969</td>\n",
       "      <td>0.018276</td>\n",
       "      <td>0.013657</td>\n",
       "    </tr>\n",
       "  </tbody>\n",
       "</table>\n",
       "</div>"
      ],
      "text/plain": [
       "   aa   coil  helix  strand  coilconf  helixconf  strandconf     total\n",
       "0   K   5336   5332    2437  0.057945   0.068586    0.050156  0.060000\n",
       "1   V   4039   5112    6494  0.043860   0.065756    0.133654  0.071629\n",
       "2   S   6680   3458    2438  0.072539   0.044480    0.050177  0.057578\n",
       "3   H   2276   1516    1105  0.024715   0.019500    0.022742  0.022420\n",
       "4   R   4209   4815    2406  0.045706   0.061936    0.049518  0.052331\n",
       "5   T   5405   3271    3226  0.058694   0.042075    0.066395  0.054492\n",
       "6   E   5768   7450    2321  0.062636   0.095830    0.047769  0.071143\n",
       "7   P   7250   1509    1092  0.078729   0.019410    0.022475  0.045102\n",
       "8   G  10884   2520    2414  0.118191   0.032415    0.049683  0.072421\n",
       "9   D   7488   3592    1598  0.081314   0.046204    0.032889  0.058045\n",
       "10  Q   3114   3838    1401  0.033815   0.049368    0.028834  0.038243\n",
       "11  L   6096   9536    4841  0.066198   0.122662    0.099634  0.093733\n",
       "12  N   5204   2309    1262  0.056511   0.029701    0.025973  0.040175\n",
       "13  M   1598   2073    1019  0.017353   0.026665    0.020972  0.021473\n",
       "14  I   2979   4821    4634  0.032349   0.062013    0.095373  0.056928\n",
       "15  C   1275    811     822  0.013845   0.010432    0.016918  0.013314\n",
       "16  A   6138   9118    3131  0.066654   0.117285    0.064440  0.084183\n",
       "17  F   2870   3066    2649  0.031166   0.039438    0.054520  0.039305\n",
       "18  Y   2470   2509    2410  0.026822   0.032273    0.049601  0.033830\n",
       "19  W   1009   1086     888  0.010957   0.013969    0.018276  0.013657"
      ]
     },
     "execution_count": 18,
     "metadata": {},
     "output_type": "execute_result"
    }
   ],
   "source": [
    "aass_df"
   ]
  },
  {
   "cell_type": "code",
   "execution_count": 19,
   "metadata": {},
   "outputs": [],
   "source": [
    "aass_df = aass_df.reset_index()"
   ]
  },
  {
   "cell_type": "code",
   "execution_count": 20,
   "metadata": {},
   "outputs": [
    {
     "data": {
      "image/png": "[encoded data removed]",
      "text/plain": [
       "<Figure size 1440x720 with 1 Axes>"
      ]
     },
     "metadata": {},
     "output_type": "display_data"
    }
   ],
   "source": [
    "# Declaring the figure or the plot (y, x) or (width, height)\n",
    "plt.figure(figsize=[20, 10])\n",
    "# Data to be plotted\n",
    "\n",
    "# Using numpy to group 3 different data with bars\n",
    "X = np.arange(len(aass_df['coilconf'])) * 1.2\n",
    "\n",
    "# Passing the parameters to the bar function, this is the main function which creates the bar plot\n",
    "# Using X now to align the bars side by side\n",
    "plt.bar(X, aass_df['coilconf'], color = 'y', width = 0.25)\n",
    "plt.bar(X + 0.25, aass_df['helixconf'], color = 'g', width = 0.25)\n",
    "plt.bar(X + 0.5, aass_df['strandconf'], color = 'b', width = 0.25)\n",
    "plt.bar(X + 0.75, aass_df['total'], color = 'r', width = 0.25)\n",
    "\n",
    "# Creating the legend of the bars in the plot\n",
    "plt.legend(['Coil', 'Helix', 'Strand', 'Total'])\n",
    "\n",
    "# Overiding the x axis with the country names\n",
    "plt.xticks([i*1.2 + 0.4 for i in range(20)], aass_df['aa'])\n",
    "\n",
    "# Giving the tilte for the plot\n",
    "plt.title(\"Fraction of Secondary Structure\")\n",
    "# Namimg the x and y axis\n",
    "plt.xlabel('Residues')\n",
    "plt.ylabel('Frequency')\n",
    "# Saving the plot as a 'png'\n",
    "plt.savefig('4BarPlot.png')\n",
    "# Displaying the bar plot\n",
    "plt.show()"
   ]
  },
  {
   "cell_type": "markdown",
   "metadata": {},
   "source": [
    "### 4. Taxonomic classification\n",
    "#### 4.1 Superkingdom"
   ]
  },
  {
   "cell_type": "code",
   "execution_count": 21,
   "metadata": {},
   "outputs": [
    {
     "data": {
      "text/plain": [
       "<AxesSubplot:ylabel='Suprekingdom'>"
      ]
     },
     "execution_count": 21,
     "metadata": {},
     "output_type": "execute_result"
    },
    {
     "data": {
      "image/png": "[encoded data removed]",
      "text/plain": [
       "<Figure size 432x288 with 1 Axes>"
      ]
     },
     "metadata": {},
     "output_type": "display_data"
    }
   ],
   "source": [
    "df.Suprekingdom.value_counts().plot.pie(autopct='%1.1f%%')"
   ]
  },
  {
   "cell_type": "markdown",
   "metadata": {},
   "source": [
    "#### 4.2 Taxa name"
   ]
  },
  {
   "cell_type": "code",
   "execution_count": 22,
   "metadata": {},
   "outputs": [
    {
     "data": {
      "text/plain": [
       "<AxesSubplot:ylabel='TaxaName'>"
      ]
     },
     "execution_count": 22,
     "metadata": {},
     "output_type": "execute_result"
    },
    {
     "data": {
      "image/png": "[encoded data removed]",
      "text/plain": [
       "<Figure size 432x288 with 1 Axes>"
      ]
     },
     "metadata": {},
     "output_type": "display_data"
    }
   ],
   "source": [
    "df.TaxaName.value_counts()[0:10].plot.pie(autopct='%1.1f%%')"
   ]
  },
  {
   "cell_type": "code",
   "execution_count": 23,
   "metadata": {},
   "outputs": [],
   "source": [
    "Taxadf = df['TaxaName'].value_counts()"
   ]
  },
  {
   "cell_type": "code",
   "execution_count": 24,
   "metadata": {},
   "outputs": [],
   "source": [
    "Taxadf = Taxadf.reset_index()"
   ]
  },
  {
   "cell_type": "code",
   "execution_count": 25,
   "metadata": {},
   "outputs": [
    {
     "name": "stdout",
     "output_type": "stream",
     "text": [
      "Homo sapiens\n",
      "Escherichia coli\n",
      "Bos taurus\n",
      "Bacillus subtilis\n",
      "Saccharomyces cerevisiae\n",
      "928\n"
     ]
    }
   ],
   "source": [
    "c = 0\n",
    "for (x,char) in zip(Taxadf['TaxaName'], Taxadf['index']):\n",
    "    if x < 30:\n",
    "        Taxadf = Taxadf.replace(to_replace = char, value = 'Other')\n",
    "        c += x\n",
    "    else: print(char)\n",
    "\n",
    "print(c)"
   ]
  },
  {
   "cell_type": "code",
   "execution_count": 26,
   "metadata": {},
   "outputs": [
    {
     "data": {
      "text/html": [
       "<div>\n",
       "<style scoped>\n",
       "    .dataframe tbody tr th:only-of-type {\n",
       "        vertical-align: middle;\n",
       "    }\n",
       "\n",
       "    .dataframe tbody tr th {\n",
       "        vertical-align: top;\n",
       "    }\n",
       "\n",
       "    .dataframe thead th {\n",
       "        text-align: right;\n",
       "    }\n",
       "</style>\n",
       "<table border=\"1\" class=\"dataframe\">\n",
       "  <thead>\n",
       "    <tr style=\"text-align: right;\">\n",
       "      <th></th>\n",
       "      <th>index</th>\n",
       "      <th>TaxaName</th>\n",
       "    </tr>\n",
       "  </thead>\n",
       "  <tbody>\n",
       "    <tr>\n",
       "      <th>0</th>\n",
       "      <td>Homo sapiens</td>\n",
       "      <td>215</td>\n",
       "    </tr>\n",
       "    <tr>\n",
       "      <th>1</th>\n",
       "      <td>Escherichia coli</td>\n",
       "      <td>106</td>\n",
       "    </tr>\n",
       "    <tr>\n",
       "      <th>2</th>\n",
       "      <td>Bos taurus</td>\n",
       "      <td>36</td>\n",
       "    </tr>\n",
       "    <tr>\n",
       "      <th>3</th>\n",
       "      <td>Bacillus subtilis</td>\n",
       "      <td>32</td>\n",
       "    </tr>\n",
       "    <tr>\n",
       "      <th>4</th>\n",
       "      <td>Saccharomyces cerevisiae</td>\n",
       "      <td>31</td>\n",
       "    </tr>\n",
       "    <tr>\n",
       "      <th>...</th>\n",
       "      <td>...</td>\n",
       "      <td>...</td>\n",
       "    </tr>\n",
       "    <tr>\n",
       "      <th>415</th>\n",
       "      <td>Other</td>\n",
       "      <td>1</td>\n",
       "    </tr>\n",
       "    <tr>\n",
       "      <th>416</th>\n",
       "      <td>Other</td>\n",
       "      <td>1</td>\n",
       "    </tr>\n",
       "    <tr>\n",
       "      <th>417</th>\n",
       "      <td>Other</td>\n",
       "      <td>1</td>\n",
       "    </tr>\n",
       "    <tr>\n",
       "      <th>418</th>\n",
       "      <td>Other</td>\n",
       "      <td>1</td>\n",
       "    </tr>\n",
       "    <tr>\n",
       "      <th>419</th>\n",
       "      <td>Other</td>\n",
       "      <td>1</td>\n",
       "    </tr>\n",
       "  </tbody>\n",
       "</table>\n",
       "<p>420 rows × 2 columns</p>\n",
       "</div>"
      ],
      "text/plain": [
       "                        index  TaxaName\n",
       "0                Homo sapiens       215\n",
       "1            Escherichia coli       106\n",
       "2                  Bos taurus        36\n",
       "3           Bacillus subtilis        32\n",
       "4    Saccharomyces cerevisiae        31\n",
       "..                        ...       ...\n",
       "415                     Other         1\n",
       "416                     Other         1\n",
       "417                     Other         1\n",
       "418                     Other         1\n",
       "419                     Other         1\n",
       "\n",
       "[420 rows x 2 columns]"
      ]
     },
     "execution_count": 26,
     "metadata": {},
     "output_type": "execute_result"
    }
   ],
   "source": [
    "Taxadf"
   ]
  },
  {
   "cell_type": "code",
   "execution_count": 27,
   "metadata": {},
   "outputs": [
    {
     "data": {
      "text/html": [
       "<div>\n",
       "<style scoped>\n",
       "    .dataframe tbody tr th:only-of-type {\n",
       "        vertical-align: middle;\n",
       "    }\n",
       "\n",
       "    .dataframe tbody tr th {\n",
       "        vertical-align: top;\n",
       "    }\n",
       "\n",
       "    .dataframe thead th {\n",
       "        text-align: right;\n",
       "    }\n",
       "</style>\n",
       "<table border=\"1\" class=\"dataframe\">\n",
       "  <thead>\n",
       "    <tr style=\"text-align: right;\">\n",
       "      <th></th>\n",
       "      <th>index</th>\n",
       "      <th>TaxaName</th>\n",
       "    </tr>\n",
       "  </thead>\n",
       "  <tbody>\n",
       "    <tr>\n",
       "      <th>0</th>\n",
       "      <td>Homo sapiens</td>\n",
       "      <td>215</td>\n",
       "    </tr>\n",
       "    <tr>\n",
       "      <th>1</th>\n",
       "      <td>Escherichia coli</td>\n",
       "      <td>106</td>\n",
       "    </tr>\n",
       "    <tr>\n",
       "      <th>2</th>\n",
       "      <td>Bos taurus</td>\n",
       "      <td>36</td>\n",
       "    </tr>\n",
       "    <tr>\n",
       "      <th>3</th>\n",
       "      <td>Bacillus subtilis</td>\n",
       "      <td>32</td>\n",
       "    </tr>\n",
       "    <tr>\n",
       "      <th>4</th>\n",
       "      <td>Saccharomyces cerevisiae</td>\n",
       "      <td>31</td>\n",
       "    </tr>\n",
       "    <tr>\n",
       "      <th>5</th>\n",
       "      <td>Other</td>\n",
       "      <td>29</td>\n",
       "    </tr>\n",
       "  </tbody>\n",
       "</table>\n",
       "</div>"
      ],
      "text/plain": [
       "                      index  TaxaName\n",
       "0              Homo sapiens       215\n",
       "1          Escherichia coli       106\n",
       "2                Bos taurus        36\n",
       "3         Bacillus subtilis        32\n",
       "4  Saccharomyces cerevisiae        31\n",
       "5                     Other        29"
      ]
     },
     "execution_count": 27,
     "metadata": {},
     "output_type": "execute_result"
    }
   ],
   "source": [
    "Taxa_df = Taxadf[:6] \n",
    "Taxa_df"
   ]
  },
  {
   "cell_type": "code",
   "execution_count": 28,
   "metadata": {},
   "outputs": [
    {
     "data": {
      "text/html": [
       "<div>\n",
       "<style scoped>\n",
       "    .dataframe tbody tr th:only-of-type {\n",
       "        vertical-align: middle;\n",
       "    }\n",
       "\n",
       "    .dataframe tbody tr th {\n",
       "        vertical-align: top;\n",
       "    }\n",
       "\n",
       "    .dataframe thead th {\n",
       "        text-align: right;\n",
       "    }\n",
       "</style>\n",
       "<table border=\"1\" class=\"dataframe\">\n",
       "  <thead>\n",
       "    <tr style=\"text-align: right;\">\n",
       "      <th></th>\n",
       "      <th>index</th>\n",
       "      <th>TaxaName</th>\n",
       "    </tr>\n",
       "  </thead>\n",
       "  <tbody>\n",
       "    <tr>\n",
       "      <th>0</th>\n",
       "      <td>Homo sapiens</td>\n",
       "      <td>215</td>\n",
       "    </tr>\n",
       "    <tr>\n",
       "      <th>1</th>\n",
       "      <td>Escherichia coli</td>\n",
       "      <td>106</td>\n",
       "    </tr>\n",
       "    <tr>\n",
       "      <th>2</th>\n",
       "      <td>Bos taurus</td>\n",
       "      <td>36</td>\n",
       "    </tr>\n",
       "    <tr>\n",
       "      <th>3</th>\n",
       "      <td>Bacillus subtilis</td>\n",
       "      <td>32</td>\n",
       "    </tr>\n",
       "    <tr>\n",
       "      <th>4</th>\n",
       "      <td>Saccharomyces cerevisiae</td>\n",
       "      <td>31</td>\n",
       "    </tr>\n",
       "    <tr>\n",
       "      <th>5</th>\n",
       "      <td>Other</td>\n",
       "      <td>928</td>\n",
       "    </tr>\n",
       "  </tbody>\n",
       "</table>\n",
       "</div>"
      ],
      "text/plain": [
       "                      index  TaxaName\n",
       "0              Homo sapiens       215\n",
       "1          Escherichia coli       106\n",
       "2                Bos taurus        36\n",
       "3         Bacillus subtilis        32\n",
       "4  Saccharomyces cerevisiae        31\n",
       "5                     Other       928"
      ]
     },
     "execution_count": 28,
     "metadata": {},
     "output_type": "execute_result"
    }
   ],
   "source": [
    "Taxa_df.at[5, 'TaxaName'] = c\n",
    "Taxa_df"
   ]
  },
  {
   "cell_type": "code",
   "execution_count": 29,
   "metadata": {},
   "outputs": [
    {
     "data": {
      "text/plain": [
       "<AxesSubplot:>"
      ]
     },
     "execution_count": 29,
     "metadata": {},
     "output_type": "execute_result"
    },
    {
     "data": {
      "image/png": "[encoded data removed]",
      "text/plain": [
       "<Figure size 432x288 with 1 Axes>"
      ]
     },
     "metadata": {},
     "output_type": "display_data"
    }
   ],
   "source": [
    "df['TaxaName'].value_counts().head(10).plot(kind='barh', cmap=\"seismic\")"
   ]
  },
  {
   "cell_type": "code",
   "execution_count": 30,
   "metadata": {},
   "outputs": [],
   "source": [
    "Taxa_df = Taxa_df.set_index('index')"
   ]
  },
  {
   "cell_type": "code",
   "execution_count": 31,
   "metadata": {},
   "outputs": [
    {
     "data": {
      "text/plain": [
       "<AxesSubplot:ylabel='TaxaName'>"
      ]
     },
     "execution_count": 31,
     "metadata": {},
     "output_type": "execute_result"
    },
    {
     "data": {
      "image/png": "[encoded data removed]",
      "text/plain": [
       "<Figure size 432x288 with 1 Axes>"
      ]
     },
     "metadata": {},
     "output_type": "display_data"
    }
   ],
   "source": [
    "Taxa_df.plot.pie( y = 'TaxaName', legend = False, autopct='%1.1f%%')"
   ]
  },
  {
   "cell_type": "markdown",
   "metadata": {},
   "source": [
    "### 5. Structural classification (SCOP class)"
   ]
  },
  {
   "cell_type": "code",
   "execution_count": 32,
   "metadata": {},
   "outputs": [
    {
     "data": {
      "text/html": [
       "<div>\n",
       "<style scoped>\n",
       "    .dataframe tbody tr th:only-of-type {\n",
       "        vertical-align: middle;\n",
       "    }\n",
       "\n",
       "    .dataframe tbody tr th {\n",
       "        vertical-align: top;\n",
       "    }\n",
       "\n",
       "    .dataframe thead th {\n",
       "        text-align: right;\n",
       "    }\n",
       "</style>\n",
       "<table border=\"1\" class=\"dataframe\">\n",
       "  <thead>\n",
       "    <tr style=\"text-align: right;\">\n",
       "      <th></th>\n",
       "      <th>SCOPClass</th>\n",
       "    </tr>\n",
       "    <tr>\n",
       "      <th>SCOPClass</th>\n",
       "      <th></th>\n",
       "    </tr>\n",
       "  </thead>\n",
       "  <tbody>\n",
       "    <tr>\n",
       "      <th>Alpha and beta (a+b)</th>\n",
       "      <td>394</td>\n",
       "    </tr>\n",
       "    <tr>\n",
       "      <th>All alpha</th>\n",
       "      <td>354</td>\n",
       "    </tr>\n",
       "    <tr>\n",
       "      <th>All beta</th>\n",
       "      <td>253</td>\n",
       "    </tr>\n",
       "    <tr>\n",
       "      <th>Alpha and beta (a/b)</th>\n",
       "      <td>199</td>\n",
       "    </tr>\n",
       "    <tr>\n",
       "      <th>Small proteins</th>\n",
       "      <td>57</td>\n",
       "    </tr>\n",
       "    <tr>\n",
       "      <th>Membrane and cell surface proteins and peptides</th>\n",
       "      <td>54</td>\n",
       "    </tr>\n",
       "    <tr>\n",
       "      <th>Multi-domain proteins (alpha and beta)</th>\n",
       "      <td>37</td>\n",
       "    </tr>\n",
       "  </tbody>\n",
       "</table>\n",
       "</div>"
      ],
      "text/plain": [
       "                                                 SCOPClass\n",
       "SCOPClass                                                 \n",
       "Alpha and beta (a+b)                                   394\n",
       "All alpha                                              354\n",
       "All beta                                               253\n",
       "Alpha and beta (a/b)                                   199\n",
       "Small proteins                                          57\n",
       "Membrane and cell surface proteins and peptides         54\n",
       "Multi-domain proteins (alpha and beta)                  37"
      ]
     },
     "execution_count": 32,
     "metadata": {},
     "output_type": "execute_result"
    }
   ],
   "source": [
    "ssSCOP = df['SCOPClass'].value_counts()\n",
    "ssSCOP\n",
    "\n",
    "df_ssSCOP = ssSCOP.rename_axis(\"SCOPClass\").to_frame(\"SCOPClass\")\n",
    "df_ssSCOP"
   ]
  },
  {
   "cell_type": "code",
   "execution_count": 33,
   "metadata": {},
   "outputs": [
    {
     "data": {
      "text/plain": [
       "<AxesSubplot:ylabel='SCOPClass'>"
      ]
     },
     "execution_count": 33,
     "metadata": {},
     "output_type": "execute_result"
    },
    {
     "data": {
      "image/png": "[encoded data removed]",
      "text/plain": [
       "<Figure size 432x288 with 1 Axes>"
      ]
     },
     "metadata": {},
     "output_type": "display_data"
    }
   ],
   "source": [
    "df_ssSCOP.plot.pie(y=\"SCOPClass\",\n",
    "            autopct='%1.1f%%',\n",
    "                   legend = False)"
   ]
  }
 ],
 "metadata": {
  "kernelspec": {
   "display_name": "Python 3",
   "language": "python",
   "name": "python3"
  },
  "language_info": {
   "codemirror_mode": {
    "name": "ipython",
    "version": 3
   },
   "file_extension": ".py",
   "mimetype": "text/x-python",
   "name": "python",
   "nbconvert_exporter": "python",
   "pygments_lexer": "ipython3",
   "version": "3.7.8"
  }
 },
 "nbformat": 4,
 "nbformat_minor": 4
}